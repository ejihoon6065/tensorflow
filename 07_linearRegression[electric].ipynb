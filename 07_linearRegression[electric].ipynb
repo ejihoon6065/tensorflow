{
 "cells": [
  {
   "cell_type": "markdown",
   "metadata": {},
   "source": [
    "## 선형회귀분석을 통해 w,b를 구하시오"
   ]
  },
  {
   "cell_type": "code",
   "execution_count": 1,
   "metadata": {},
   "outputs": [],
   "source": [
    "import tensorflow as tf\n",
    "import numpy as np\n",
    "import matplotlib.pyplot as plt\n",
    "import pandas as pd"
   ]
  },
  {
   "cell_type": "code",
   "execution_count": 2,
   "metadata": {},
   "outputs": [
    {
     "data": {
      "text/html": [
       "<div>\n",
       "<style scoped>\n",
       "    .dataframe tbody tr th:only-of-type {\n",
       "        vertical-align: middle;\n",
       "    }\n",
       "\n",
       "    .dataframe tbody tr th {\n",
       "        vertical-align: top;\n",
       "    }\n",
       "\n",
       "    .dataframe thead th {\n",
       "        text-align: right;\n",
       "    }\n",
       "</style>\n",
       "<table border=\"1\" class=\"dataframe\">\n",
       "  <thead>\n",
       "    <tr style=\"text-align: right;\">\n",
       "      <th></th>\n",
       "      <th>Unnamed: 0</th>\n",
       "      <th>전기생산량</th>\n",
       "      <th>전기사용량</th>\n",
       "    </tr>\n",
       "  </thead>\n",
       "  <tbody>\n",
       "    <tr>\n",
       "      <th>0</th>\n",
       "      <td>0</td>\n",
       "      <td>3.52</td>\n",
       "      <td>2.48</td>\n",
       "    </tr>\n",
       "    <tr>\n",
       "      <th>1</th>\n",
       "      <td>1</td>\n",
       "      <td>2.58</td>\n",
       "      <td>2.27</td>\n",
       "    </tr>\n",
       "    <tr>\n",
       "      <th>2</th>\n",
       "      <td>2</td>\n",
       "      <td>3.31</td>\n",
       "      <td>2.47</td>\n",
       "    </tr>\n",
       "    <tr>\n",
       "      <th>3</th>\n",
       "      <td>3</td>\n",
       "      <td>4.07</td>\n",
       "      <td>2.77</td>\n",
       "    </tr>\n",
       "    <tr>\n",
       "      <th>4</th>\n",
       "      <td>4</td>\n",
       "      <td>4.62</td>\n",
       "      <td>2.98</td>\n",
       "    </tr>\n",
       "    <tr>\n",
       "      <th>5</th>\n",
       "      <td>5</td>\n",
       "      <td>3.98</td>\n",
       "      <td>3.05</td>\n",
       "    </tr>\n",
       "    <tr>\n",
       "      <th>6</th>\n",
       "      <td>6</td>\n",
       "      <td>4.29</td>\n",
       "      <td>3.18</td>\n",
       "    </tr>\n",
       "    <tr>\n",
       "      <th>7</th>\n",
       "      <td>7</td>\n",
       "      <td>4.83</td>\n",
       "      <td>3.46</td>\n",
       "    </tr>\n",
       "    <tr>\n",
       "      <th>8</th>\n",
       "      <td>8</td>\n",
       "      <td>3.71</td>\n",
       "      <td>3.03</td>\n",
       "    </tr>\n",
       "    <tr>\n",
       "      <th>9</th>\n",
       "      <td>9</td>\n",
       "      <td>4.61</td>\n",
       "      <td>3.25</td>\n",
       "    </tr>\n",
       "    <tr>\n",
       "      <th>10</th>\n",
       "      <td>10</td>\n",
       "      <td>3.90</td>\n",
       "      <td>2.67</td>\n",
       "    </tr>\n",
       "    <tr>\n",
       "      <th>11</th>\n",
       "      <td>11</td>\n",
       "      <td>3.20</td>\n",
       "      <td>2.53</td>\n",
       "    </tr>\n",
       "  </tbody>\n",
       "</table>\n",
       "</div>"
      ],
      "text/plain": [
       "    Unnamed: 0  전기생산량  전기사용량\n",
       "0            0   3.52   2.48\n",
       "1            1   2.58   2.27\n",
       "2            2   3.31   2.47\n",
       "3            3   4.07   2.77\n",
       "4            4   4.62   2.98\n",
       "5            5   3.98   3.05\n",
       "6            6   4.29   3.18\n",
       "7            7   4.83   3.46\n",
       "8            8   3.71   3.03\n",
       "9            9   4.61   3.25\n",
       "10          10   3.90   2.67\n",
       "11          11   3.20   2.53"
      ]
     },
     "execution_count": 2,
     "metadata": {},
     "output_type": "execute_result"
    }
   ],
   "source": [
    "df = pd.read_csv('electric.csv')\n",
    "df"
   ]
  },
  {
   "cell_type": "code",
   "execution_count": 3,
   "metadata": {},
   "outputs": [],
   "source": [
    "# 텐서 객체가 노드이므로 'x = df['전기생산량']'이라고 만들면 안됨, 이건 pandas 객체\n",
    "\n",
    "x = tf.placeholder(tf.float32)\n",
    "y = tf.constant(df['전기사용량'], tf.float32)"
   ]
  },
  {
   "cell_type": "code",
   "execution_count": 4,
   "metadata": {},
   "outputs": [
    {
     "data": {
      "text/plain": [
       "<tf.Tensor 'Placeholder:0' shape=<unknown> dtype=float32>"
      ]
     },
     "execution_count": 4,
     "metadata": {},
     "output_type": "execute_result"
    }
   ],
   "source": [
    "x"
   ]
  },
  {
   "cell_type": "code",
   "execution_count": 5,
   "metadata": {},
   "outputs": [
    {
     "data": {
      "text/plain": [
       "<tf.Tensor 'Const:0' shape=(12,) dtype=float32>"
      ]
     },
     "execution_count": 5,
     "metadata": {},
     "output_type": "execute_result"
    }
   ],
   "source": [
    "y"
   ]
  },
  {
   "cell_type": "code",
   "execution_count": 6,
   "metadata": {},
   "outputs": [],
   "source": [
    "# w와 b에 초기값을 부여하는 과정\n",
    "\n",
    "w = tf.Variable( tf.random_uniform([1]))\n",
    "b = tf.Variable( tf.random_uniform([1]))"
   ]
  },
  {
   "cell_type": "code",
   "execution_count": 7,
   "metadata": {},
   "outputs": [],
   "source": [
    "# 가설 설정\n",
    "\n",
    "hx = w*x + b\n",
    "\n",
    "# 비용함수 설정\n",
    "cost = tf.reduce_mean(tf.square(hx-y))"
   ]
  },
  {
   "cell_type": "code",
   "execution_count": 8,
   "metadata": {},
   "outputs": [],
   "source": [
    "# 미분\n",
    "\n",
    "# 러닝메이트(0.001)는 테스트를 통해 조절\n",
    "optimizer = tf.train.GradientDescentOptimizer(0.001) # argument로 learning mate를 투입\n",
    "train = optimizer.minimize( cost )"
   ]
  },
  {
   "cell_type": "code",
   "execution_count": 9,
   "metadata": {},
   "outputs": [],
   "source": [
    "# init은 랜덤하게 w와 b에 값을 투입시키는 기능\n",
    "\n",
    "sess = tf.Session()\n",
    "init = tf.global_variables_initializer()\n",
    "sess.run(init)"
   ]
  },
  {
   "cell_type": "code",
   "execution_count": 10,
   "metadata": {},
   "outputs": [
    {
     "name": "stdout",
     "output_type": "stream",
     "text": [
      "0 0.0495164\n",
      "100 0.029359644\n",
      "200 0.029294124\n",
      "300 0.029253736\n",
      "400 0.029213794\n",
      "500 0.029174209\n",
      "600 0.029135043\n",
      "700 0.029096246\n",
      "800 0.029057825\n",
      "900 0.029019749\n",
      "1000 0.028982116\n",
      "1100 0.028944777\n",
      "1200 0.028907841\n",
      "1300 0.028871253\n",
      "1400 0.028835041\n",
      "1500 0.028799161\n",
      "1600 0.028763644\n",
      "1700 0.028728442\n",
      "1800 0.02869361\n",
      "1900 0.0286591\n",
      "2000 0.028624974\n",
      "2100 0.028591117\n",
      "2200 0.028557613\n",
      "2300 0.028524468\n",
      "2400 0.02849158\n",
      "2500 0.02845905\n",
      "2600 0.028426826\n",
      "2700 0.028394932\n",
      "2800 0.028363338\n",
      "2900 0.028332053\n",
      "3000 0.02830107\n",
      "3100 0.028270379\n",
      "3200 0.028240016\n",
      "3300 0.028209904\n",
      "3400 0.028180122\n",
      "3500 0.028150633\n",
      "3600 0.028121427\n",
      "3700 0.02809248\n",
      "3800 0.028063813\n",
      "3900 0.028035445\n",
      "4000 0.028007353\n",
      "4100 0.027979525\n",
      "4200 0.02795194\n",
      "4300 0.027924674\n",
      "4400 0.027897686\n",
      "4500 0.027870925\n",
      "4600 0.027844422\n",
      "4700 0.027818197\n",
      "4800 0.027792186\n",
      "4900 0.027766488\n",
      "5000 0.027741008\n",
      "5100 0.02771578\n",
      "5200 0.02769079\n",
      "5300 0.027666075\n",
      "5400 0.027641535\n",
      "5500 0.027617298\n",
      "5600 0.027593248\n",
      "5700 0.027569482\n",
      "5800 0.027545907\n",
      "5900 0.027522571\n",
      "6000 0.027499469\n",
      "6100 0.027476585\n",
      "6200 0.027453938\n",
      "6300 0.027431525\n",
      "6400 0.027409313\n",
      "6500 0.027387274\n",
      "6600 0.02736549\n",
      "6700 0.02734395\n",
      "6800 0.027322559\n",
      "6900 0.027301403\n",
      "7000 0.02728046\n",
      "7100 0.027259713\n",
      "7200 0.027239129\n",
      "7300 0.027218824\n",
      "7400 0.027198663\n",
      "7500 0.027178707\n",
      "7600 0.02715893\n",
      "7700 0.027139395\n",
      "7800 0.02712001\n",
      "7900 0.027100826\n",
      "8000 0.027081825\n",
      "8100 0.027063012\n",
      "8200 0.02704438\n",
      "8300 0.027025925\n",
      "8400 0.02700764\n",
      "8500 0.026989557\n",
      "8600 0.026971655\n",
      "8700 0.026953915\n",
      "8800 0.026936345\n",
      "8900 0.026918946\n",
      "9000 0.02690172\n",
      "9100 0.026884655\n",
      "9200 0.026867762\n",
      "9300 0.026851028\n",
      "9400 0.026834464\n",
      "9500 0.026818046\n",
      "9600 0.026801847\n",
      "9700 0.026785726\n",
      "9800 0.026769772\n",
      "9900 0.026754022\n"
     ]
    }
   ],
   "source": [
    "# 학습 시작\n",
    "\n",
    "for i in range(10000) :\n",
    "    sess.run(train, {x:df['전기생산량']} ) \n",
    "    if i%100==0:\n",
    "        print(i, sess.run(cost, {x:df['전기생산량']} ) )"
   ]
  },
  {
   "cell_type": "code",
   "execution_count": 11,
   "metadata": {},
   "outputs": [
    {
     "data": {
      "text/plain": [
       "array([0.55770993], dtype=float32)"
      ]
     },
     "execution_count": 11,
     "metadata": {},
     "output_type": "execute_result"
    }
   ],
   "source": [
    "# 트레이닝 결과\n",
    "\n",
    "sess.run(w)"
   ]
  },
  {
   "cell_type": "code",
   "execution_count": 16,
   "metadata": {},
   "outputs": [
    {
     "data": {
      "text/plain": [
       "array([0.67225164], dtype=float32)"
      ]
     },
     "execution_count": 16,
     "metadata": {},
     "output_type": "execute_result"
    }
   ],
   "source": [
    "# 트레이닝 결과\n",
    "\n",
    "sess.run(b)"
   ]
  },
  {
   "cell_type": "code",
   "execution_count": 23,
   "metadata": {},
   "outputs": [
    {
     "name": "stderr",
     "output_type": "stream",
     "text": [
      "C:\\ProgramData\\Anaconda3\\lib\\site-packages\\matplotlib\\backends\\backend_agg.py:211: RuntimeWarning: Glyph 51204 missing from current font.\n",
      "  font.set_text(s, 0.0, flags=flags)\n",
      "C:\\ProgramData\\Anaconda3\\lib\\site-packages\\matplotlib\\backends\\backend_agg.py:211: RuntimeWarning: Glyph 44592 missing from current font.\n",
      "  font.set_text(s, 0.0, flags=flags)\n",
      "C:\\ProgramData\\Anaconda3\\lib\\site-packages\\matplotlib\\backends\\backend_agg.py:211: RuntimeWarning: Glyph 49373 missing from current font.\n",
      "  font.set_text(s, 0.0, flags=flags)\n",
      "C:\\ProgramData\\Anaconda3\\lib\\site-packages\\matplotlib\\backends\\backend_agg.py:211: RuntimeWarning: Glyph 49328 missing from current font.\n",
      "  font.set_text(s, 0.0, flags=flags)\n",
      "C:\\ProgramData\\Anaconda3\\lib\\site-packages\\matplotlib\\backends\\backend_agg.py:211: RuntimeWarning: Glyph 47049 missing from current font.\n",
      "  font.set_text(s, 0.0, flags=flags)\n",
      "C:\\ProgramData\\Anaconda3\\lib\\site-packages\\matplotlib\\backends\\backend_agg.py:180: RuntimeWarning: Glyph 51204 missing from current font.\n",
      "  font.set_text(s, 0, flags=flags)\n",
      "C:\\ProgramData\\Anaconda3\\lib\\site-packages\\matplotlib\\backends\\backend_agg.py:180: RuntimeWarning: Glyph 44592 missing from current font.\n",
      "  font.set_text(s, 0, flags=flags)\n",
      "C:\\ProgramData\\Anaconda3\\lib\\site-packages\\matplotlib\\backends\\backend_agg.py:180: RuntimeWarning: Glyph 49373 missing from current font.\n",
      "  font.set_text(s, 0, flags=flags)\n",
      "C:\\ProgramData\\Anaconda3\\lib\\site-packages\\matplotlib\\backends\\backend_agg.py:180: RuntimeWarning: Glyph 49328 missing from current font.\n",
      "  font.set_text(s, 0, flags=flags)\n",
      "C:\\ProgramData\\Anaconda3\\lib\\site-packages\\matplotlib\\backends\\backend_agg.py:180: RuntimeWarning: Glyph 47049 missing from current font.\n",
      "  font.set_text(s, 0, flags=flags)\n",
      "C:\\ProgramData\\Anaconda3\\lib\\site-packages\\matplotlib\\backends\\backend_agg.py:211: RuntimeWarning: Glyph 49324 missing from current font.\n",
      "  font.set_text(s, 0.0, flags=flags)\n",
      "C:\\ProgramData\\Anaconda3\\lib\\site-packages\\matplotlib\\backends\\backend_agg.py:211: RuntimeWarning: Glyph 50857 missing from current font.\n",
      "  font.set_text(s, 0.0, flags=flags)\n",
      "C:\\ProgramData\\Anaconda3\\lib\\site-packages\\matplotlib\\backends\\backend_agg.py:180: RuntimeWarning: Glyph 49324 missing from current font.\n",
      "  font.set_text(s, 0, flags=flags)\n",
      "C:\\ProgramData\\Anaconda3\\lib\\site-packages\\matplotlib\\backends\\backend_agg.py:180: RuntimeWarning: Glyph 50857 missing from current font.\n",
      "  font.set_text(s, 0, flags=flags)\n"
     ]
    },
    {
     "data": {
      "image/png": "[encoded data removed]",
      "text/plain": [
       "<Figure size 432x288 with 1 Axes>"
      ]
     },
     "metadata": {
      "needs_background": "light"
     },
     "output_type": "display_data"
    }
   ],
   "source": [
    "plt.xlabel('전기생산량')\n",
    "plt.ylabel('전기사용량')\n",
    "plt.scatter(df['전기생산량'], df['전기사용량'])\n",
    "plt.plot(df['전기생산량'], sess.run(hx,{x:df['전기생산량']} ), 'r--')\n",
    "plt.show()"
   ]
  },
  {
   "cell_type": "code",
   "execution_count": 14,
   "metadata": {},
   "outputs": [],
   "source": [
    "\n"
   ]
  },
  {
   "cell_type": "markdown",
   "metadata": {},
   "source": [
    "## 전기생산량이 40일 때 전기 상용량을 예측하시오"
   ]
  },
  {
   "cell_type": "code",
   "execution_count": 18,
   "metadata": {},
   "outputs": [
    {
     "data": {
      "text/plain": [
       "array([22.980648], dtype=float32)"
      ]
     },
     "execution_count": 18,
     "metadata": {},
     "output_type": "execute_result"
    }
   ],
   "source": [
    "# 전기생산량이 40일때 전기사용량 예측\n",
    "\n",
    "sess.run(hx, {x:[40]})"
   ]
  },
  {
   "cell_type": "code",
   "execution_count": null,
   "metadata": {},
   "outputs": [],
   "source": []
  }
 ],
 "metadata": {
  "kernelspec": {
   "display_name": "Python 3",
   "language": "python",
   "name": "python3"
  },
  "language_info": {
   "codemirror_mode": {
    "name": "ipython",
    "version": 3
   },
   "file_extension": ".py",
   "mimetype": "text/x-python",
   "name": "python",
   "nbconvert_exporter": "python",
   "pygments_lexer": "ipython3",
   "version": "3.7.6"
  }
 },
 "nbformat": 4,
 "nbformat_minor": 4
}
