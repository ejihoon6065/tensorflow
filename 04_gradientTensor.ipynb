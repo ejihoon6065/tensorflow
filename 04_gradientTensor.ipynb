{
 "cells": [
  {
   "cell_type": "code",
   "execution_count": 1,
   "metadata": {},
   "outputs": [],
   "source": [
    "import tensorflow as tf\n",
    "import numpy as np\n",
    "import matplotlib.pyplot as plt"
   ]
  },
  {
   "cell_type": "code",
   "execution_count": 3,
   "metadata": {},
   "outputs": [],
   "source": [
    "x = tf.constant([1,2,3], tf.float32)\n",
    "y = tf.constant([1,2,3], tf.float32)"
   ]
  },
  {
   "cell_type": "code",
   "execution_count": 7,
   "metadata": {},
   "outputs": [],
   "source": [
    "w = tf.Variable(10.) # 실수값으로 투입(type)\n",
    "hx = w*x\n",
    "cost = tf.reduce_mean(tf.square(hx-y))"
   ]
  },
  {
   "cell_type": "code",
   "execution_count": 9,
   "metadata": {},
   "outputs": [],
   "source": [
    "optimizer = tf.train.GradientDescentOptimizer(0.1) # argument로 learning mate를 투입\n",
    "train = optimizer.minimize( cost )"
   ]
  },
  {
   "cell_type": "code",
   "execution_count": 10,
   "metadata": {},
   "outputs": [],
   "source": [
    "sess = tf.Session()\n",
    "init = tf.global_variables_initializer()\n",
    "sess.run(init)"
   ]
  },
  {
   "cell_type": "code",
   "execution_count": 11,
   "metadata": {
    "collapsed": true,
    "jupyter": {
     "outputs_hidden": true
    }
   },
   "outputs": [
    {
     "name": "stdout",
     "output_type": "stream",
     "text": [
      "0 1.6799968\n",
      "1 0.007466653\n",
      "2 3.318631e-05\n",
      "3 1.473864e-07\n",
      "4 6.6317324e-10\n",
      "5 3.0553338e-12\n",
      "6 9.947598e-14\n",
      "7 0.0\n",
      "8 0.0\n",
      "9 0.0\n",
      "10 0.0\n",
      "11 0.0\n",
      "12 0.0\n",
      "13 0.0\n",
      "14 0.0\n",
      "15 0.0\n",
      "16 0.0\n",
      "17 0.0\n",
      "18 0.0\n",
      "19 0.0\n",
      "20 0.0\n",
      "21 0.0\n",
      "22 0.0\n",
      "23 0.0\n",
      "24 0.0\n",
      "25 0.0\n",
      "26 0.0\n",
      "27 0.0\n",
      "28 0.0\n",
      "29 0.0\n",
      "30 0.0\n",
      "31 0.0\n",
      "32 0.0\n",
      "33 0.0\n",
      "34 0.0\n",
      "35 0.0\n",
      "36 0.0\n",
      "37 0.0\n",
      "38 0.0\n",
      "39 0.0\n",
      "40 0.0\n",
      "41 0.0\n",
      "42 0.0\n",
      "43 0.0\n",
      "44 0.0\n",
      "45 0.0\n",
      "46 0.0\n",
      "47 0.0\n",
      "48 0.0\n",
      "49 0.0\n",
      "50 0.0\n",
      "51 0.0\n",
      "52 0.0\n",
      "53 0.0\n",
      "54 0.0\n",
      "55 0.0\n",
      "56 0.0\n",
      "57 0.0\n",
      "58 0.0\n",
      "59 0.0\n",
      "60 0.0\n",
      "61 0.0\n",
      "62 0.0\n",
      "63 0.0\n",
      "64 0.0\n",
      "65 0.0\n",
      "66 0.0\n",
      "67 0.0\n",
      "68 0.0\n",
      "69 0.0\n",
      "70 0.0\n",
      "71 0.0\n",
      "72 0.0\n",
      "73 0.0\n",
      "74 0.0\n",
      "75 0.0\n",
      "76 0.0\n",
      "77 0.0\n",
      "78 0.0\n",
      "79 0.0\n",
      "80 0.0\n",
      "81 0.0\n",
      "82 0.0\n",
      "83 0.0\n",
      "84 0.0\n",
      "85 0.0\n",
      "86 0.0\n",
      "87 0.0\n",
      "88 0.0\n",
      "89 0.0\n",
      "90 0.0\n",
      "91 0.0\n",
      "92 0.0\n",
      "93 0.0\n",
      "94 0.0\n",
      "95 0.0\n",
      "96 0.0\n",
      "97 0.0\n",
      "98 0.0\n",
      "99 0.0\n"
     ]
    }
   ],
   "source": [
    "for i in range(100) :\n",
    "    sess.run(train) # w = w.assign(w-0.1 * 미분값)\n",
    "    print(i, sess.run(cost))"
   ]
  },
  {
   "cell_type": "code",
   "execution_count": 12,
   "metadata": {},
   "outputs": [
    {
     "data": {
      "text/plain": [
       "1.0"
      ]
     },
     "execution_count": 12,
     "metadata": {},
     "output_type": "execute_result"
    }
   ],
   "source": [
    "sess.run( w )"
   ]
  },
  {
   "cell_type": "code",
   "execution_count": null,
   "metadata": {},
   "outputs": [],
   "source": []
  }
 ],
 "metadata": {
  "kernelspec": {
   "display_name": "Python 3",
   "language": "python",
   "name": "python3"
  },
  "language_info": {
   "codemirror_mode": {
    "name": "ipython",
    "version": 3
   },
   "file_extension": ".py",
   "mimetype": "text/x-python",
   "name": "python",
   "nbconvert_exporter": "python",
   "pygments_lexer": "ipython3",
   "version": "3.7.6"
  }
 },
 "nbformat": 4,
 "nbformat_minor": 4
}
