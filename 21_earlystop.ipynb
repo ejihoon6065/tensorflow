{
 "cells": [
  {
   "cell_type": "code",
   "execution_count": 1,
   "metadata": {},
   "outputs": [],
   "source": [
    "import tensorflow as tf\n",
    "import numpy as np\n",
    "import matplotlib.pyplot as plt\n",
    "import pandas as pd\n",
    "\n",
    "from tensorflow.keras.layers import Dense\n",
    "from tensorflow.keras import Sequential\n",
    "from tensorflow.keras.optimizers import Adam "
   ]
  },
  {
   "cell_type": "code",
   "execution_count": 2,
   "metadata": {},
   "outputs": [],
   "source": [
    "x = tf.placeholder( tf.float32 )\n",
    "y = tf.constant([1,2,3], tf.float32)"
   ]
  },
  {
   "cell_type": "code",
   "execution_count": 3,
   "metadata": {},
   "outputs": [
    {
     "name": "stdout",
     "output_type": "stream",
     "text": [
      "WARNING:tensorflow:\n",
      "The TensorFlow contrib module will not be included in TensorFlow 2.0.\n",
      "For more information, please see:\n",
      "  * https://github.com/tensorflow/community/blob/master/rfcs/20180907-contrib-sunset.md\n",
      "  * https://github.com/tensorflow/addons\n",
      "  * https://github.com/tensorflow/io (for I/O related ops)\n",
      "If you depend on functionality not listed there, please file an issue.\n",
      "\n"
     ]
    }
   ],
   "source": [
    "w = tf.get_variable( 'w1', shape = [1], initializer = tf.contrib.layers.xavier_initializer() )\n",
    "b = tf.get_variable( 'b1', shape = [1], initializer = tf.contrib.layers.xavier_initializer() )"
   ]
  },
  {
   "cell_type": "code",
   "execution_count": 4,
   "metadata": {},
   "outputs": [],
   "source": [
    "# xavier, he 알고리즘 ; 초기화 알고리즘\n",
    "# tf.contrib.layers.variance_scaling_initializer() : he\n",
    "\n",
    "hx = w*x + b\n",
    "cost = tf.reduce_mean(tf.square(hx-y))"
   ]
  },
  {
   "cell_type": "code",
   "execution_count": 5,
   "metadata": {},
   "outputs": [],
   "source": [
    "optimizer = tf.train.GradientDescentOptimizer(0.1) # argument로 learning mate를 투입\n",
    "train = optimizer.minimize( cost )"
   ]
  },
  {
   "cell_type": "code",
   "execution_count": 6,
   "metadata": {},
   "outputs": [],
   "source": [
    "sess = tf.Session()\n",
    "init = tf.global_variables_initializer()\n",
    "sess.run(init)"
   ]
  },
  {
   "cell_type": "code",
   "execution_count": 7,
   "metadata": {},
   "outputs": [
    {
     "name": "stdout",
     "output_type": "stream",
     "text": [
      "0 0.3350992\n",
      "1 0.1701846\n",
      "2 0.1603209\n",
      "3 0.15268429\n",
      "4 0.14543143\n",
      "5 0.13852333\n",
      "6 0.13194337\n",
      "7 0.12567595\n",
      "8 0.119706236\n",
      "9 0.11402012\n",
      "10 0.10860405\n",
      "11 0.10344526\n",
      "12 0.09853157\n",
      "13 0.093851216\n",
      "14 0.08939325\n",
      "15 0.08514699\n",
      "16 0.08110243\n",
      "17 0.07725004\n",
      "18 0.073580556\n",
      "19 0.07008543\n",
      "20 0.06675633\n",
      "21 0.06358535\n",
      "22 0.060565013\n",
      "23 0.057688113\n",
      "24 0.054947894\n",
      "25 0.05233784\n",
      "26 0.049851745\n",
      "27 0.047483742\n",
      "28 0.045228247\n",
      "29 0.043079864\n",
      "30 0.041033547\n",
      "31 0.039084416\n",
      "32 0.037227858\n",
      "33 0.035459522\n",
      "34 0.03377514\n",
      "35 0.032170787\n",
      "36 0.030642686\n",
      "37 0.029187115\n",
      "38 0.027800718\n",
      "39 0.026480163\n",
      "40 0.025222346\n",
      "41 0.024024263\n",
      "42 0.022883067\n",
      "43 0.021796124\n",
      "44 0.020760788\n",
      "45 0.01977463\n",
      "46 0.018835329\n",
      "47 0.017940642\n",
      "48 0.017088426\n",
      "49 0.016276719\n",
      "50 0.015503577\n",
      "51 0.014767144\n",
      "52 0.014065673\n",
      "53 0.013397545\n",
      "54 0.012761156\n",
      "55 0.012155001\n",
      "56 0.011577625\n",
      "57 0.011027675\n",
      "58 0.010503865\n",
      "59 0.010004919\n",
      "60 0.009529685\n",
      "61 0.009077013\n",
      "early stopping... \n"
     ]
    }
   ],
   "source": [
    "hist_loss=[]\n",
    "\n",
    "# 16번 비교 ; 기다리는 값\n",
    "patience = 16\n",
    "\n",
    "# 0.001 이하로 나오면 빠져 나갈 것, 엄격하게 하려면 수치를 작게 만듦\n",
    "min_delta = 0.001\n",
    "\n",
    "\n",
    "\n",
    "for i in range(300) :\n",
    "    sess.run(train, {x:[1,2,3]} ) \n",
    "    c = sess.run(cost, {x:[1,2,3]})\n",
    "    hist_loss.append(c)\n",
    "    print( i, c )\n",
    "    if i > 0 :\n",
    "        if hist_loss[i-1]-hist_loss[i] > min_delta :\n",
    "            pcnt = 0\n",
    "        else:\n",
    "            pcnt+=1\n",
    "        if pcnt>patience :\n",
    "            print('early stopping... ')\n",
    "            break"
   ]
  },
  {
   "cell_type": "code",
   "execution_count": null,
   "metadata": {},
   "outputs": [],
   "source": [
    "# 계산이 조금 빨리 종료 됨"
   ]
  },
  {
   "cell_type": "code",
   "execution_count": 11,
   "metadata": {},
   "outputs": [],
   "source": [
    "x = [1,2,3]\n",
    "y = [1,2,3]"
   ]
  },
  {
   "cell_type": "code",
   "execution_count": 12,
   "metadata": {},
   "outputs": [],
   "source": [
    "# 충분히 돌릴 것\n",
    "# 이전 데이터와 비교해서 일정 값 이상 변화가 없으면 Break로 반복문 종류"
   ]
  },
  {
   "cell_type": "code",
   "execution_count": 13,
   "metadata": {},
   "outputs": [],
   "source": [
    "from tensorflow.keras.callbacks import EarlyStopping"
   ]
  },
  {
   "cell_type": "code",
   "execution_count": 14,
   "metadata": {},
   "outputs": [
    {
     "name": "stdout",
     "output_type": "stream",
     "text": [
      "Train on 3 samples\n",
      "Epoch 1/1000\n",
      "3/3 [==============================] - 0s 24ms/sample - loss: 15.7390\n",
      "Epoch 2/1000\n",
      "3/3 [==============================] - 0s 0s/sample - loss: 13.3870\n",
      "Epoch 3/1000\n",
      "3/3 [==============================] - 0s 0s/sample - loss: 11.2345\n",
      "Epoch 4/1000\n",
      "3/3 [==============================] - 0s 4ms/sample - loss: 9.2843\n",
      "Epoch 5/1000\n",
      "3/3 [==============================] - 0s 332us/sample - loss: 7.5378\n",
      "Epoch 6/1000\n",
      "3/3 [==============================] - 0s 341us/sample - loss: 5.9951\n",
      "Epoch 7/1000\n",
      "3/3 [==============================] - 0s 334us/sample - loss: 4.6544\n",
      "Epoch 8/1000\n",
      "3/3 [==============================] - 0s 666us/sample - loss: 3.5119\n",
      "Epoch 9/1000\n",
      "3/3 [==============================] - 0s 329us/sample - loss: 2.5617\n",
      "Epoch 10/1000\n",
      "3/3 [==============================] - 0s 626us/sample - loss: 1.7952\n",
      "Epoch 11/1000\n",
      "3/3 [==============================] - 0s 323us/sample - loss: 1.2011\n",
      "Epoch 12/1000\n",
      "3/3 [==============================] - 0s 329us/sample - loss: 0.7654\n",
      "Epoch 13/1000\n",
      "3/3 [==============================] - 0s 332us/sample - loss: 0.4716\n",
      "Epoch 14/1000\n",
      "3/3 [==============================] - 0s 397us/sample - loss: 0.3008\n",
      "Epoch 15/1000\n",
      "3/3 [==============================] - 0s 0s/sample - loss: 0.2323\n",
      "Epoch 16/1000\n",
      "3/3 [==============================] - 0s 0s/sample - loss: 0.2444\n",
      "Epoch 17/1000\n",
      "3/3 [==============================] - 0s 0s/sample - loss: 0.3150\n",
      "Epoch 18/1000\n",
      "3/3 [==============================] - 0s 0s/sample - loss: 0.4230\n",
      "Epoch 19/1000\n",
      "3/3 [==============================] - 0s 0s/sample - loss: 0.5490\n",
      "Epoch 20/1000\n",
      "3/3 [==============================] - 0s 773us/sample - loss: 0.6761\n",
      "Epoch 21/1000\n",
      "3/3 [==============================] - 0s 335us/sample - loss: 0.7909\n",
      "Epoch 22/1000\n",
      "3/3 [==============================] - 0s 665us/sample - loss: 0.8832\n",
      "Epoch 23/1000\n",
      "3/3 [==============================] - 0s 666us/sample - loss: 0.9467\n",
      "Epoch 24/1000\n",
      "3/3 [==============================] - 0s 668us/sample - loss: 0.9785\n",
      "Epoch 25/1000\n",
      "3/3 [==============================] - 0s 332us/sample - loss: 0.9787\n",
      "Epoch 26/1000\n",
      "3/3 [==============================] - 0s 669us/sample - loss: 0.9498\n",
      "Epoch 27/1000\n",
      "3/3 [==============================] - 0s 314us/sample - loss: 0.8962\n",
      "Epoch 28/1000\n",
      "3/3 [==============================] - 0s 333us/sample - loss: 0.8235\n",
      "Epoch 29/1000\n",
      "3/3 [==============================] - 0s 344us/sample - loss: 0.7380\n",
      "Epoch 30/1000\n",
      "3/3 [==============================] - 0s 370us/sample - loss: 0.6458\n",
      "Epoch 31/1000\n",
      "3/3 [==============================] - 0s 0s/sample - loss: 0.5529\n"
     ]
    }
   ],
   "source": [
    "IO = Dense(units=1, input_dim=1)\n",
    "model = Sequential( [IO])\n",
    "model.compile(loss = 'mean_squared_error', optimizer = Adam(0.1))\n",
    "early = EarlyStopping(monitor= 'loss' , min_delta=0.001, patience=16)\n",
    "h = model.fit(x,y, epochs=1000, callbacks = [early] )\n",
    "\n",
    "# min_delta랑 patience 조정\n",
    "# callback : 체크포인트 재생성, 트레이닝간 학습, 순간 상태 저장 등 기능"
   ]
  },
  {
   "cell_type": "code",
   "execution_count": null,
   "metadata": {},
   "outputs": [],
   "source": []
  }
 ],
 "metadata": {
  "kernelspec": {
   "display_name": "Python 3",
   "language": "python",
   "name": "python3"
  },
  "language_info": {
   "codemirror_mode": {
    "name": "ipython",
    "version": 3
   },
   "file_extension": ".py",
   "mimetype": "text/x-python",
   "name": "python",
   "nbconvert_exporter": "python",
   "pygments_lexer": "ipython3",
   "version": "3.7.6"
  }
 },
 "nbformat": 4,
 "nbformat_minor": 4
}
