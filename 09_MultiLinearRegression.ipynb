{
 "cells": [
  {
   "cell_type": "code",
   "execution_count": 1,
   "metadata": {},
   "outputs": [],
   "source": [
    "import tensorflow as tf\n",
    "import numpy as np\n",
    "import matplotlib.pyplot as plt\n",
    "import pandas as pd"
   ]
  },
  {
   "cell_type": "code",
   "execution_count": 2,
   "metadata": {},
   "outputs": [],
   "source": [
    "# x1에 공부한 시간 부여\n",
    "# x2에 출석일수 부여\n",
    "# 레이블(y), 점수\n",
    "\n",
    "x1 = tf.constant( [1,0,3,0,5], tf.float32 ) \n",
    "x2 = tf.constant( [0,2,3,4,5], tf.float32 )\n",
    "y = tf.constant( [1,2,3,4,5], tf.float32 )"
   ]
  },
  {
   "cell_type": "code",
   "execution_count": 3,
   "metadata": {},
   "outputs": [],
   "source": [
    "w1 = tf.Variable( tf.random_uniform([1]) )\n",
    "w2 = tf.Variable( tf.random_uniform([1]) )\n",
    "b = tf.Variable( tf.random_uniform([1]) )"
   ]
  },
  {
   "cell_type": "code",
   "execution_count": 5,
   "metadata": {},
   "outputs": [],
   "source": [
    "hx = w1*x1 + w2*x2 + b\n",
    "cost = tf.reduce_mean( tf.square(hx-y) )"
   ]
  },
  {
   "cell_type": "code",
   "execution_count": 6,
   "metadata": {},
   "outputs": [],
   "source": [
    "optimizer = tf.train.GradientDescentOptimizer( 0.1 ) # argument로 learning mate를 투입\n",
    "train = optimizer.minimize( cost )"
   ]
  },
  {
   "cell_type": "code",
   "execution_count": 7,
   "metadata": {},
   "outputs": [],
   "source": [
    "sess = tf.Session()\n",
    "init = tf.global_variables_initializer()\n",
    "sess.run(init)"
   ]
  },
  {
   "cell_type": "code",
   "execution_count": 8,
   "metadata": {
    "collapsed": true,
    "jupyter": {
     "outputs_hidden": true
    }
   },
   "outputs": [
    {
     "name": "stdout",
     "output_type": "stream",
     "text": [
      "0 5.245378\n",
      "1 4.937807\n",
      "2 4.650161\n",
      "3 4.3811316\n",
      "4 4.129504\n",
      "5 3.8941388\n",
      "6 3.6739712\n",
      "7 3.4680061\n",
      "8 3.2753167\n",
      "9 3.0950313\n",
      "10 2.9263413\n",
      "11 2.7684867\n",
      "12 2.6207604\n",
      "13 2.4824986\n",
      "14 2.3530831\n",
      "15 2.2319362\n",
      "16 2.1185174\n",
      "17 2.0123208\n",
      "18 1.9128755\n",
      "19 1.8197399\n",
      "20 1.7325033\n",
      "21 1.6507794\n",
      "22 1.5742081\n",
      "23 1.5024548\n",
      "24 1.4352038\n",
      "25 1.372162\n",
      "26 1.3130548\n",
      "27 1.2576256\n",
      "28 1.2056351\n",
      "29 1.1568599\n",
      "30 1.1110898\n",
      "31 1.0681293\n",
      "32 1.0277961\n",
      "33 0.9899193\n",
      "34 0.9543389\n",
      "35 0.92090636\n",
      "36 0.8894819\n",
      "37 0.8599353\n",
      "38 0.83214444\n",
      "39 0.8059968\n",
      "40 0.7813849\n",
      "41 0.7582096\n",
      "42 0.7363783\n",
      "43 0.7158042\n",
      "44 0.6964058\n",
      "45 0.67810744\n",
      "46 0.66083854\n",
      "47 0.6445326\n",
      "48 0.62912834\n",
      "49 0.61456716\n",
      "50 0.60079545\n",
      "51 0.58776253\n",
      "52 0.5754215\n",
      "53 0.5637277\n",
      "54 0.55264056\n",
      "55 0.5421208\n",
      "56 0.53213286\n",
      "57 0.5226429\n",
      "58 0.5136194\n",
      "59 0.50503314\n",
      "60 0.4968563\n",
      "61 0.48906344\n",
      "62 0.4816305\n",
      "63 0.474535\n",
      "64 0.4677558\n",
      "65 0.46127337\n",
      "66 0.4550694\n",
      "67 0.44912642\n",
      "68 0.4434288\n",
      "69 0.43796143\n",
      "70 0.43271008\n",
      "71 0.42766184\n",
      "72 0.42280442\n",
      "73 0.4181262\n",
      "74 0.41361666\n",
      "75 0.40926567\n",
      "76 0.4050637\n",
      "77 0.40100232\n",
      "78 0.39707318\n",
      "79 0.3932685\n",
      "80 0.38958114\n",
      "81 0.3860044\n",
      "82 0.382532\n",
      "83 0.37915826\n",
      "84 0.37587732\n",
      "85 0.37268436\n",
      "86 0.3695744\n",
      "87 0.36654288\n",
      "88 0.36358562\n",
      "89 0.3606987\n",
      "90 0.35787857\n",
      "91 0.35512152\n",
      "92 0.35242438\n",
      "93 0.34978414\n",
      "94 0.347198\n",
      "95 0.34466332\n",
      "96 0.3421774\n",
      "97 0.33973822\n",
      "98 0.3373433\n",
      "99 0.3349907\n"
     ]
    }
   ],
   "source": [
    "for i in range(100) :\n",
    "    # place holder로 지정한 것 없으므로 feed_dict 줄 것 없이 바로 run, training\n",
    "    sess.run( train )\n",
    "    print( i, sess.run(cost) )"
   ]
  },
  {
   "cell_type": "code",
   "execution_count": 9,
   "metadata": {},
   "outputs": [
    {
     "data": {
      "text/plain": [
       "array([0.37121424], dtype=float32)"
      ]
     },
     "execution_count": 9,
     "metadata": {},
     "output_type": "execute_result"
    }
   ],
   "source": [
    "# w1 확인\n",
    "sess.run(w1)"
   ]
  },
  {
   "cell_type": "code",
   "execution_count": 11,
   "metadata": {},
   "outputs": [
    {
     "data": {
      "text/plain": [
       "array([0.6691739], dtype=float32)"
      ]
     },
     "execution_count": 11,
     "metadata": {},
     "output_type": "execute_result"
    }
   ],
   "source": [
    "# w2 확인\n",
    "sess.run(w2)"
   ]
  },
  {
   "cell_type": "code",
   "execution_count": 12,
   "metadata": {},
   "outputs": [
    {
     "data": {
      "text/plain": [
       "array([0.32804543], dtype=float32)"
      ]
     },
     "execution_count": 12,
     "metadata": {},
     "output_type": "execute_result"
    }
   ],
   "source": [
    "# bias 확인\n",
    "sess.run(b)"
   ]
  }
 ],
 "metadata": {
  "kernelspec": {
   "display_name": "Python 3",
   "language": "python",
   "name": "python3"
  },
  "language_info": {
   "codemirror_mode": {
    "name": "ipython",
    "version": 3
   },
   "file_extension": ".py",
   "mimetype": "text/x-python",
   "name": "python",
   "nbconvert_exporter": "python",
   "pygments_lexer": "ipython3",
   "version": "3.7.6"
  }
 },
 "nbformat": 4,
 "nbformat_minor": 4
}
