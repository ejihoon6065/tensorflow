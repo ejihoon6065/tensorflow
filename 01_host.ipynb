{
 "cells": [
  {
   "cell_type": "code",
   "execution_count": 2,
   "metadata": {},
   "outputs": [],
   "source": [
    "import tensorflow as tf\n",
    "import numpy as np\n",
    "import matplotlib.pyplot as plt"
   ]
  },
  {
   "cell_type": "code",
   "execution_count": 3,
   "metadata": {},
   "outputs": [],
   "source": [
    "# 목표 모델이 추측한 답과 정답이 비슷해지도록 만드는 것\n",
    "# 즉, Cost를 최소화 하는 방안\n",
    "# 세운 가설을 수정해나가면서 가장 합리적인 식을 찾아낸다\n"
   ]
  },
  {
   "cell_type": "code",
   "execution_count": 4,
   "metadata": {},
   "outputs": [],
   "source": [
    "def cost (x,y,w) :\n",
    "    c = 0\n",
    "    for i in np.arange( len(x) ) :\n",
    "        hx = w*x[i]\n",
    "        c = c + (hx -y[i]) ** 2\n",
    "    return c/len(x)"
   ]
  },
  {
   "cell_type": "code",
   "execution_count": 8,
   "metadata": {},
   "outputs": [
    {
     "name": "stdout",
     "output_type": "stream",
     "text": [
      "18.666666666666668\n",
      "4.666666666666667\n",
      "0.0\n",
      "4.666666666666667\n",
      "18.666666666666668\n"
     ]
    }
   ],
   "source": [
    "x = [1,2,3]\n",
    "y = [1,2,3]\n",
    "# x값은 벡터, Y값도 벡터\n",
    "\n",
    "print( cost(x,y,-1))\n",
    "print( cost(x,y,0))\n",
    "print( cost(x,y,1))\n",
    "print( cost(x,y,2))\n",
    "print( cost(x,y,3))"
   ]
  },
  {
   "cell_type": "code",
   "execution_count": 9,
   "metadata": {},
   "outputs": [
    {
     "data": {
      "image/png": "[encoded data removed]",
      "text/plain": [
       "<Figure size 432x288 with 1 Axes>"
      ]
     },
     "metadata": {
      "needs_background": "light"
     },
     "output_type": "display_data"
    }
   ],
   "source": [
    "plt.plot(x,y, 'ro--')\n",
    "plt.show()"
   ]
  },
  {
   "cell_type": "code",
   "execution_count": 11,
   "metadata": {},
   "outputs": [
    {
     "data": {
      "text/plain": [
       "array([-3.        , -2.83673469, -2.67346939, -2.51020408, -2.34693878,\n",
       "       -2.18367347, -2.02040816, -1.85714286, -1.69387755, -1.53061224,\n",
       "       -1.36734694, -1.20408163, -1.04081633, -0.87755102, -0.71428571,\n",
       "       -0.55102041, -0.3877551 , -0.2244898 , -0.06122449,  0.10204082,\n",
       "        0.26530612,  0.42857143,  0.59183673,  0.75510204,  0.91836735,\n",
       "        1.08163265,  1.24489796,  1.40816327,  1.57142857,  1.73469388,\n",
       "        1.89795918,  2.06122449,  2.2244898 ,  2.3877551 ,  2.55102041,\n",
       "        2.71428571,  2.87755102,  3.04081633,  3.20408163,  3.36734694,\n",
       "        3.53061224,  3.69387755,  3.85714286,  4.02040816,  4.18367347,\n",
       "        4.34693878,  4.51020408,  4.67346939,  4.83673469,  5.        ])"
      ]
     },
     "execution_count": 11,
     "metadata": {},
     "output_type": "execute_result"
    }
   ],
   "source": [
    "# np.linspace(n,m,t): n에서 m까지 t등분\n",
    "np.linspace( -3, 5, 50 )"
   ]
  },
  {
   "cell_type": "code",
   "execution_count": 16,
   "metadata": {},
   "outputs": [
    {
     "name": "stdout",
     "output_type": "stream",
     "text": [
      "-3.0 74.66666666666667\n",
      "-2.836734693877551 68.69582118561709\n",
      "-2.673469387755102 62.97376093294461\n",
      "-2.510204081632653 57.500485908649175\n",
      "-2.3469387755102042 52.275996112730816\n",
      "-2.183673469387755 47.3002915451895\n",
      "-2.020408163265306 42.57337220602526\n",
      "-1.8571428571428572 38.095238095238095\n",
      "-1.6938775510204083 33.86588921282799\n",
      "-1.5306122448979593 29.88532555879495\n",
      "-1.3673469387755104 26.15354713313897\n",
      "-1.2040816326530615 22.670553935860067\n",
      "-1.0408163265306123 19.436345966958214\n",
      "-0.8775510204081636 16.450923226433435\n",
      "-0.7142857142857144 13.714285714285717\n",
      "-0.5510204081632657 11.226433430515067\n",
      "-0.38775510204081653 8.98736637512148\n",
      "-0.22448979591836737 6.997084548104957\n",
      "-0.06122448979591866 5.255587949465504\n",
      "0.1020408163265305 3.7628765792031107\n",
      "0.2653061224489792 2.518950437317787\n",
      "0.4285714285714284 1.5238095238095248\n",
      "0.5918367346938771 0.7774538386783302\n",
      "0.7551020408163263 0.27988338192419887\n",
      "0.9183673469387754 0.031098153547133207\n",
      "1.0816326530612246 0.031098153547133207\n",
      "1.2448979591836729 0.2798833819241968\n",
      "1.408163265306122 0.7774538386783268\n",
      "1.5714285714285712 1.5238095238095226\n",
      "1.7346938775510203 2.5189504373177836\n",
      "1.8979591836734686 3.762876579203103\n",
      "2.0612244897959178 5.255587949465494\n",
      "2.224489795918367 6.997084548104951\n",
      "2.387755102040816 8.987366375121475\n",
      "2.5510204081632653 11.226433430515064\n",
      "2.7142857142857135 13.714285714285703\n",
      "2.8775510204081627 16.45092322643342\n",
      "3.040816326530612 19.436345966958203\n",
      "3.204081632653061 22.670553935860056\n",
      "3.3673469387755093 26.153547133138954\n",
      "3.5306122448979584 29.88532555879492\n",
      "3.6938775510204076 33.86588921282798\n",
      "3.8571428571428568 38.09523809523808\n",
      "4.020408163265306 42.57337220602526\n",
      "4.183673469387754 47.30029154518948\n",
      "4.346938775510203 52.27599611273078\n",
      "4.5102040816326525 57.50048590864915\n",
      "4.673469387755102 62.97376093294459\n",
      "4.836734693877551 68.69582118561709\n",
      "5.0 74.66666666666667\n"
     ]
    },
    {
     "data": {
      "image/png": "[encoded data removed]",
      "text/plain": [
       "<Figure size 432x288 with 1 Axes>"
      ]
     },
     "metadata": {
      "needs_background": "light"
     },
     "output_type": "display_data"
    }
   ],
   "source": [
    "# linspace는 숫자를 잘게 쪼개서 미분과 비슷한 표현을 가능하게 함, 숫자를 잘게 쪼갤 수록 구간이 작아지고\n",
    "# 개수가 많아짐\n",
    "for w in np.linspace( -3, 5, 50 ):\n",
    "    c = cost( x,y,w)\n",
    "    print( w,c )\n",
    "    plt.plot( w,c,'ro' )\n",
    "\n",
    "plt.show()\n"
   ]
  },
  {
   "cell_type": "markdown",
   "metadata": {},
   "source": [
    "### 미분으로 접선의 기울기 이용"
   ]
  },
  {
   "cell_type": "markdown",
   "metadata": {},
   "source": [
    "- y = 3 (미분시 기울기 = 0) ;상수를 미분 = 0\n",
    "- y = x (미분 계수) => 1\n",
    "- y = 2x => 2\n",
    "- y = x^2 => 2x"
   ]
  },
  {
   "cell_type": "code",
   "execution_count": null,
   "metadata": {},
   "outputs": [],
   "source": []
  }
 ],
 "metadata": {
  "kernelspec": {
   "display_name": "Python 3",
   "language": "python",
   "name": "python3"
  },
  "language_info": {
   "codemirror_mode": {
    "name": "ipython",
    "version": 3
   },
   "file_extension": ".py",
   "mimetype": "text/x-python",
   "name": "python",
   "nbconvert_exporter": "python",
   "pygments_lexer": "ipython3",
   "version": "3.7.6"
  }
 },
 "nbformat": 4,
 "nbformat_minor": 4
}
