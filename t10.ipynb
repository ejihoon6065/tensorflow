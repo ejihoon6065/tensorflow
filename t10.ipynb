{
 "cells": [
  {
   "cell_type": "code",
   "execution_count": 1,
   "metadata": {},
   "outputs": [],
   "source": [
    "import tensorflow as tf"
   ]
  },
  {
   "cell_type": "code",
   "execution_count": 31,
   "metadata": {},
   "outputs": [],
   "source": [
    "# 1에서 7까지 임의의 숫자 10행 1열 매트릭스 생성\n",
    "x = tf.random_uniform([10,2], minval=1, maxval=7, dtype=tf.int32)"
   ]
  },
  {
   "cell_type": "code",
   "execution_count": 32,
   "metadata": {},
   "outputs": [],
   "source": [
    "sess = tf.Session()"
   ]
  },
  {
   "cell_type": "code",
   "execution_count": 33,
   "metadata": {},
   "outputs": [
    {
     "data": {
      "text/plain": [
       "array([[3, 1, 2],\n",
       "       [4, 1, 5],\n",
       "       [6, 3, 3],\n",
       "       [1, 5, 5],\n",
       "       [5, 1, 6],\n",
       "       [6, 3, 1],\n",
       "       [6, 5, 6],\n",
       "       [2, 3, 5],\n",
       "       [2, 3, 6],\n",
       "       [2, 3, 5]])"
      ]
     },
     "execution_count": 33,
     "metadata": {},
     "output_type": "execute_result"
    }
   ],
   "source": [
    "sess.run(x )"
   ]
  },
  {
   "cell_type": "code",
   "execution_count": 12,
   "metadata": {},
   "outputs": [],
   "source": [
    "# concat ; tensor 결합\n",
    "\n",
    "c = tf.constant([[1],[2]])\n",
    "d = tf.constant([[3],[4]])\n",
    "r = tf.concat([c,d] , axis = 0) # 행으로 결합\n",
    "r = tf.concat([c,d] , axis = 1) # 열로 결합"
   ]
  },
  {
   "cell_type": "code",
   "execution_count": 13,
   "metadata": {},
   "outputs": [
    {
     "data": {
      "text/plain": [
       "array([[1, 3],\n",
       "       [2, 4]])"
      ]
     },
     "execution_count": 13,
     "metadata": {},
     "output_type": "execute_result"
    }
   ],
   "source": [
    "sess.run(r)"
   ]
  },
  {
   "cell_type": "code",
   "execution_count": 41,
   "metadata": {},
   "outputs": [
    {
     "data": {
      "text/plain": [
       "array([[ 6,  1,  7],\n",
       "       [ 6,  2,  8],\n",
       "       [ 2,  1,  3],\n",
       "       [ 1,  4,  5],\n",
       "       [ 4,  5,  9],\n",
       "       [ 4,  6, 10],\n",
       "       [ 2,  1,  3],\n",
       "       [ 6,  2,  8],\n",
       "       [ 3,  3,  6],\n",
       "       [ 5,  6, 11]])"
      ]
     },
     "execution_count": 41,
     "metadata": {},
     "output_type": "execute_result"
    }
   ],
   "source": [
    "# 주사위 2개를 10번 굴리기를 시행했을 때\n",
    "# 10 X 3 매트릭스 텐서를 생성하시오\n",
    "# 1열과 2열은 주사위를 시행했을 때 값이며\n",
    "# 3열은 두개의 열의 합으로 구성된다\n",
    "\n",
    "x = tf.random_uniform([10,1], minval=1, maxval=7, dtype=tf.int32)\n",
    "y = tf.random_uniform([10,1], minval=1, maxval=7, dtype=tf.int32)\n",
    "z = x + y  # dsum = tf.add(x,y)\n",
    "r = tf.concat([x,y,z] , axis = 1)\n",
    "\n",
    "sess = tf.Session()\n",
    "sess.run( r )\n"
   ]
  },
  {
   "cell_type": "code",
   "execution_count": null,
   "metadata": {},
   "outputs": [],
   "source": []
  },
  {
   "cell_type": "code",
   "execution_count": null,
   "metadata": {},
   "outputs": [],
   "source": []
  }
 ],
 "metadata": {
  "kernelspec": {
   "display_name": "Python 3",
   "language": "python",
   "name": "python3"
  },
  "language_info": {
   "codemirror_mode": {
    "name": "ipython",
    "version": 3
   },
   "file_extension": ".py",
   "mimetype": "text/x-python",
   "name": "python",
   "nbconvert_exporter": "python",
   "pygments_lexer": "ipython3",
   "version": "3.7.6"
  }
 },
 "nbformat": 4,
 "nbformat_minor": 4
}
